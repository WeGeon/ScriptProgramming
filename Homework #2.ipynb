{
 "cells": [
  {
   "cell_type": "markdown",
   "id": "6a79bb31",
   "metadata": {},
   "source": [
    "# Homework #2\n",
    "                                                                                                              2018136073     위건"
   ]
  },
  {
   "cell_type": "markdown",
   "id": "07d91f3b",
   "metadata": {},
   "source": [
    "## 1. 다음 6개의 Expression에 대해 Evaluation 결과 값을 출력하고, 해당 결과가 나온 이유에 대해 설명하시오.\n",
    " > - 1 and 2 and 3 and 4\n",
    " > - 1 or 2 or 3 or 4\n",
    " > - 1 and 2 or 3 and 4\n",
    " > - (1 and 2) or (3 and 4)\n",
    " > - 1 or 2 and 3 or 4\n",
    " > - (1 or 2) and (3 or 4)"
   ]
  },
  {
   "cell_type": "markdown",
   "id": "144bdc28",
   "metadata": {},
   "source": [
    "### 1) 1 and 2 and 3 and 4"
   ]
  },
  {
   "cell_type": "code",
   "execution_count": 1,
   "id": "8dc74e64",
   "metadata": {},
   "outputs": [
    {
     "data": {
      "text/plain": [
       "4"
      ]
     },
     "execution_count": 1,
     "metadata": {},
     "output_type": "execute_result"
    }
   ],
   "source": [
    "1 and 2 and 3 and 4"
   ]
  },
  {
   "cell_type": "markdown",
   "id": "64a4c4b0",
   "metadata": {},
   "source": [
    "##### 이유\n",
    "> Python에서 and를 활용한 연산에서는 1, 2, 3, 4 모두가 true 값이 되어야 하기에 모두를 확인하였고,  \n",
    "> 모두가 true 값이기에 마지막인 4를 출력하였다.  \n",
    "> 결과 : 4"
   ]
  },
  {
   "cell_type": "markdown",
   "id": "f9385408",
   "metadata": {},
   "source": [
    "### 2) 1 or 2 or 3 or 4"
   ]
  },
  {
   "cell_type": "code",
   "execution_count": 2,
   "id": "d78e2ac2",
   "metadata": {},
   "outputs": [
    {
     "data": {
      "text/plain": [
       "1"
      ]
     },
     "execution_count": 2,
     "metadata": {},
     "output_type": "execute_result"
    }
   ],
   "source": [
    "1 or 2 or 3 or 4"
   ]
  },
  {
   "cell_type": "markdown",
   "id": "5dfba6e6",
   "metadata": {},
   "source": [
    "##### 이유\n",
    "> Python에서 or를 활용한 연산에서는 1, 2, 3, 4 중 하나만 true 값이 되어도 true 값을 출력한다.  \n",
    "> 1에서 이미 true를 충족하였기에 연산을 멈추고 1을 출력한다.  \n",
    "> 결과 : 1"
   ]
  },
  {
   "cell_type": "markdown",
   "id": "16dddb67",
   "metadata": {},
   "source": [
    "### 3) 1 and 2 or 3 and 4"
   ]
  },
  {
   "cell_type": "code",
   "execution_count": 5,
   "id": "09a2a75c",
   "metadata": {},
   "outputs": [
    {
     "data": {
      "text/plain": [
       "2"
      ]
     },
     "execution_count": 5,
     "metadata": {},
     "output_type": "execute_result"
    }
   ],
   "source": [
    "1 and 2 or 3 and 4"
   ]
  },
  {
   "cell_type": "markdown",
   "id": "8a906609",
   "metadata": {},
   "source": [
    "##### 이유\n",
    "> and 와 or 중 우선순위가 높은 것은 and이다.  \n",
    "> 1 and 2 / or / 3 and 4  \n",
    "> 1 and 2에서는 2의 값을 출력하고  \n",
    "> 3 and 4에서는 4의 값을 출력한 뒤,  \n",
    "> 2 or 4에서 2가 바로 true를 충족하기에 2를 출력한다.  \n",
    "> 결과 : 2"
   ]
  },
  {
   "cell_type": "markdown",
   "id": "5c28b1a7",
   "metadata": {},
   "source": [
    "### 4) (1 and 2) or (3 and 4)"
   ]
  },
  {
   "cell_type": "code",
   "execution_count": 7,
   "id": "06c4e73e",
   "metadata": {},
   "outputs": [
    {
     "data": {
      "text/plain": [
       "2"
      ]
     },
     "execution_count": 7,
     "metadata": {},
     "output_type": "execute_result"
    }
   ],
   "source": [
    "1 and 2 or 3 and 4"
   ]
  },
  {
   "cell_type": "markdown",
   "id": "2b57d879",
   "metadata": {},
   "source": [
    "##### 이유\n",
    "> 우선순위에 따라 (1 and 2) / or / (3 and 4) 에서 (괄호)를 먼저 처리하고 or를 처리한다.\n",
    "> (1 and 2)에서는 2의 값을 출력하고  \n",
    "> (3 and 4)에서는 4의 값을 출력한 뒤,  \n",
    "> 2 or 4에서 2가 바로 true를 충족하기에 2를 출력한다.  \n",
    "> 결과 : 2"
   ]
  },
  {
   "cell_type": "markdown",
   "id": "5a8e5fe6",
   "metadata": {},
   "source": [
    "### 5) 1 or 2 and 3 or 4"
   ]
  },
  {
   "cell_type": "code",
   "execution_count": 8,
   "id": "2076191c",
   "metadata": {},
   "outputs": [
    {
     "data": {
      "text/plain": [
       "1"
      ]
     },
     "execution_count": 8,
     "metadata": {},
     "output_type": "execute_result"
    }
   ],
   "source": [
    "1 or 2 and 3 or 4"
   ]
  },
  {
   "cell_type": "markdown",
   "id": "5e8b6b6a",
   "metadata": {},
   "source": [
    "##### 이유\n",
    "> 우선순위에 따라 2 and 3를 처리한다.\n",
    "> 2 and 3에서는 둘 다 확인을 하기에 3의 값을 출력하고  \n",
    "> 1 or 3 or 4에서는 1에서 바로 true를 충족하기에 1의 값을 출력한다.  \n",
    "> 결과 : 1"
   ]
  },
  {
   "cell_type": "markdown",
   "id": "08136af5",
   "metadata": {},
   "source": [
    "### 6) (1 or 2) and (3 or 4)"
   ]
  },
  {
   "cell_type": "code",
   "execution_count": 9,
   "id": "97fcdbf1",
   "metadata": {},
   "outputs": [
    {
     "data": {
      "text/plain": [
       "3"
      ]
     },
     "execution_count": 9,
     "metadata": {},
     "output_type": "execute_result"
    }
   ],
   "source": [
    "(1 or 2) and (3 or 4)"
   ]
  },
  {
   "cell_type": "markdown",
   "id": "5048f795",
   "metadata": {},
   "source": [
    "##### 이유\n",
    "> 우선순위에 따라 (괄호)를 처리한다.\n",
    "> (1 or 2)에서는 이미 1에서 true를 충족하기에 1를 출력,   \n",
    "> (3 or 4)에서는 이미 3에서 true를 충족하기에 3을 출력한다.  \n",
    "> 1 and 3은 둘 다 값을 확인하기에 3을 출력한다.  \n",
    "> 결과 : 3"
   ]
  },
  {
   "cell_type": "markdown",
   "id": "a0a6aab5",
   "metadata": {},
   "source": [
    "## 2. 경로에 해당하는 문자열 1개를 입력 받아 그 안에 디렉토리 경로명과 파일명을 분리하여 리스트로 반환하는 함수 div_path(s)를 작성하시오.\n",
    " > - 인자로 전달하는 문자열은 경로만 들어간다고 가정한다.\n",
    " > - 각 디렉토리와 파일을 구분하는 문자로 '/'로 가정한다.\n",
    " > - 반환하는 리스트의 첫번째 원소는 디렉토리이고 두번째 원소는 파일명이다.\n",
    " > - 다음과 같은 실행 및 출력 결과가 도출되어야 한다.\n",
    " >> - div_path('/usr/local/bin/python')  \n",
    " >>  - ['/usr/local/bin', 'python']\n",
    " >> - div_path('/home/chusoo/test.txt')\n",
    " >>  - ['/home/chulsoo', test.txt']    \n",
    " - [참고] 리스트(I) 내에 새로운 정수값 (예를 들어 10)을 넣는 방법은 l.append(10)이다."
   ]
  },
  {
   "cell_type": "code",
   "execution_count": 17,
   "id": "58faf0f0",
   "metadata": {},
   "outputs": [
    {
     "name": "stdout",
     "output_type": "stream",
     "text": [
      "경로를 입력하세요 : /usr/local/bin/python\n",
      "['/usr/local/bin', 'python']\n",
      "경로를 입력하세요 : /home/chusoo/test.txt\n",
      "['/home/chusoo', 'test.txt']\n"
     ]
    }
   ],
   "source": [
    "def div_path(s) :\n",
    "    directory = s.split('/')\n",
    "    result = []\n",
    "    result.append('/'.join(directory[:len(directory) - 1]))\n",
    "    result.append(directory[-1])\n",
    "    return result\n",
    "\n",
    "for i in range(0, 2) :\n",
    "    s = input(\"경로를 입력하세요 : \")\n",
    "    print(div_path(s))"
   ]
  },
  {
   "cell_type": "markdown",
   "id": "1b951aa9",
   "metadata": {},
   "source": [
    "##### [코드 설명]  \n",
    "> def div_path(s) :                                         \n",
    "> directory = s.split('/')                                    \n",
    "> result = []                                                \n",
    "> result.append('/'.join(directory[:len(directory) - 1]))  \n",
    "> result.append(directory[-1])                             \n",
    ">  \n",
    "> for i in range(0,2) :  \n",
    "&nbsp;&nbsp;&nbsp;&nbsp; path = input(\"경로를 입력하세요 : \")  \n",
    "&nbsp;&nbsp;&nbsp;&nbsp; print(div_path(path))\n",
    "\n",
    ">> #### [함수]  \n",
    ">> 문자열 s를 인자로 받아들이는 div_path(s)라는 함수를 정의  \n",
    ">> 문자열 s를 '/'기준으로 나눈다음 directory에 저장 (directory는 리스트형)  \n",
    ">> 디렉토리 명과 파일형식을 저장할 새로운 리스트 result를 빈 리스트로 생성  \n",
    ">> 슬라이싱을 통해 directory리스트의 파일명이 적힌 마지막 항 전까지 구한 뒤, join()함수를 이용하여 각 항들을 '/' 사용하여 합친 다음, append()함수로 result 리스트에 넣는다.  \n",
    ">> directory 리스트의 마지막 항(파일명)을 append() 함수를 통해 result의 삽입  \n",
    " \n",
    ">> #### [메인]  \n",
    ">> input()을 통해 문자열을 입력받고 path에 저장  \n",
    ">> 함수 div_path(path)를 사용하여 list값을 반환받은 뒤 print를 통해 결과 출력  "
   ]
  },
  {
   "cell_type": "markdown",
   "id": "df635eb7",
   "metadata": {},
   "source": [
    "## 3. 두 개의 리스트를 인자로 받아서 그 두 개의 리스트에 대한 '합집합'을 반환하는 함수 list_union(lista, listb)를 작성하시오.  \n",
    " > - **집합 자료형 set은 사용하지 않는다.**  \n",
    " > - 인자로 전달하는 리스트 2개에는 정수값만 들어간다고 가정하자.  \n",
    " > - 함수 내에서 새로운 리스트를 만들어 그 리스트 내에 인자로 받은 두 리스트의 모든 원소를 넣어 반환한다.  \n",
    " > - 반환하는 리스트에는 절대로 중복된 원소가 들어 있으면 안된다. (집합의 조건)  \n",
    " > - 반환하는 리스트는 정렬이 되어 있어야 한다.  \n",
    "  > - 다음과 같은 실행 및 출력 결과가 도출되어야 한다.\n",
    " >> - list_union([1, 2, 3], [1, 2, 4])  \n",
    " >>  - [1, 2, 3, 4]  \n",
    " >> - list_union([-10, -5, 0, -1], [100, 9, 0, 9])  \n",
    " >>  - [-10, -5, -1, 0, 9, 100]  \n",
    " >> - list_union([0, 1, 2], [0, 1, 2])  \n",
    " >>  - [0, 1, 2]\n",
    " - [참고] 리스트(I) 내에 새로운 정수값 (예를 들어 10)을 넣는 방법은 l.append(10)이다.  \n",
    " - [참고] 임의의 정수값 (x)이 리스트 (l) 내에 존재하는지 판단하는 방법은 x.in l 이다.  "
   ]
  },
  {
   "cell_type": "code",
   "execution_count": 24,
   "id": "dbdd0f32",
   "metadata": {},
   "outputs": [
    {
     "name": "stdout",
     "output_type": "stream",
     "text": [
      "list_union([0, 1, 4], [0, 1, 5])\n",
      "[0, 1, 4, 5]\n",
      "\n",
      "list_union([-9, -1, -3, -5], [100, 0, 1, 10])\n",
      "[-9, -5, -3, -1, 0, 1, 10, 100]\n",
      "\n",
      "list_union([0, 1, 3], [0, 1, 3])\n",
      "[0, 1, 3]\n"
     ]
    }
   ],
   "source": [
    "#함수 정의\n",
    "def list_union(listA, listB) :\n",
    "    result = listA.copy()\n",
    "    for i in listB:\n",
    "        if i in listA:\n",
    "            pass\n",
    "        else:\n",
    "            result.append(i)\n",
    "    result.sort()\n",
    "    return result\n",
    "\n",
    "#메인\n",
    "print(\"list_union([0, 1, 4], [0, 1, 5])\")\n",
    "print(list_union([0, 1, 4], [0, 1, 5]))\n",
    "print()\n",
    "print(\"list_union([-9, -1, -3, -5], [100, 0, 1, 10])\")\n",
    "print(list_union([-9, -1, -3, -5], [100, 0, 1, 10]))\n",
    "print()\n",
    "print(\"list_union([0, 1, 3], [0, 1, 3])\")\n",
    "print(list_union([0, 1, 3], [0, 1, 3]))"
   ]
  },
  {
   "cell_type": "markdown",
   "id": "f3d4baef",
   "metadata": {},
   "source": [
    "##### [코드 설명] \n",
    "> #### [함수 정의]  \n",
    "> listA, listB를 인자로 받는 함수 정의  \n",
    "> result라는 새로운 리스트를 생성하고 listA.copy() 함수를 활용하여 listA를 복사한다. (listB도 무방하다)  \n",
    "> for i in listB : 반복문을 활용하여 copy대상이 아닌 다른 list의 각 항들을 i에 대입한다.  \n",
    "> listA에 똑같은 것이 있따면 패스하고, 아니라면 새로 복사한 result리스트에 append()함수로 추가한다.  \n",
    "> 모든 반복이 종료되면 sort()함수를 활용하여 오름차순으로 정렬 후 반환한다.  \n",
    "\n",
    "\n",
    "> #### 메인  \n",
    "> - [0, 1, 4], [0, 1, 5]\n",
    "> 첫번째는 '0'과 '1'이 겹치기에 그저 패스함  \n",
    "> result = [0, 1, 4, 5]  \n",
    "\n",
    "> - [-9, -1, -3, -5], [100, 0, 1, 10]\n",
    "> 두번째는 겹치는 것이 없기에 listB를 전부 가져온다.  \n",
    "> sort()에 의해 오름차순 정렬  \n",
    "> result = [-9, -5, -3, -1, 0, 1, 10, 100]\n",
    "\n",
    "> - [0, 1, 3], [0, 1, 3]\n",
    "> 전부 겹치기에 listA를 그대로 출력  \n",
    "> result = [0, 1, 3]"
   ]
  },
  {
   "cell_type": "markdown",
   "id": "fed3b69e",
   "metadata": {},
   "source": [
    "## 4. 두 개의 리스트를 인자로 받아서 그 두 개의 리스트에 대한 '교집합'을 반환하는 함수 list_intersection(lista, listb)와 '차집합'을 반환하는 함수 list_difference(lista, listb)를 작성하시오.  \n",
    " > - 모든 가정과 조건은 3번 문제와 동일하다.\n"
   ]
  },
  {
   "cell_type": "code",
   "execution_count": 1,
   "id": "79225d62",
   "metadata": {},
   "outputs": [
    {
     "name": "stdout",
     "output_type": "stream",
     "text": [
      "A = [0, 1, 2, 3]    B = [2, 3, 4, 5]\n",
      "A와 B의 교집합 =  [2, 3]\n",
      "\n",
      "A - B 차집합 =  [0, 1]\n",
      "\n",
      "B - A 차집합 =  [4, 5]\n"
     ]
    }
   ],
   "source": [
    "#교집합\n",
    "def list_intersection(listA, listB) :\n",
    "    inter = []\n",
    "    for i in listA :\n",
    "        if i in listB : inter.append(i)\n",
    "        else : pass\n",
    "    inter.sort()\n",
    "    return inter\n",
    "\n",
    "#차집합\n",
    "def list_difference(listA, listB) :   # listA - listB\n",
    "    newList = []\n",
    "    for i in listA :\n",
    "        if i in listB : pass\n",
    "        else : newList.append(i)\n",
    "    newList.sort()\n",
    "    return newList\n",
    "\n",
    "A = [0, 1, 2, 3]\n",
    "B = [2, 3, 4, 5]\n",
    "print(\"A = \" + str(A), end = \"    \")\n",
    "print(\"B = \" + str(B))\n",
    "print (\"A와 B의 교집합 = \", end = \" \")\n",
    "print(list_intersection(A, B))\n",
    "print(\"\\nA - B 차집합 = \", end = \" \")\n",
    "print(list_difference(A, B))\n",
    "print(\"\\nB - A 차집합 = \", end = \" \")\n",
    "print(list_difference(B, A))"
   ]
  },
  {
   "cell_type": "markdown",
   "id": "e77268f5",
   "metadata": {},
   "source": [
    "##### [코드 설명] \n",
    "> #### [함수 정의]  \n",
    ">- #### 교집합&nbsp;&nbsp;&nbsp;*(하나의 리스트의 요소들을 기준으로 반복하여 다른 리스트에 같은 요소가 있다면 저장한다)*  \n",
    ">      사용자로부터 2개의 리스트를 입력받으면,  \n",
    ">      교집합을 저장할 inter리스트를 생성한 뒤  \n",
    ">      for i in listA를 통해 listA의 요소들로 반복을 한 다음  \n",
    ">      listB에도 포함되면 inter에 삽입하고 아니라면 pass를 하여 반복문을 계속 실행한다.  \n",
    ">      그 후, sort()함수를 활용하여 리스트를 오름차순 정렬시킨 뒤 출력한다.  \n",
    ">- #### 차집합&nbsp;&nbsp;&nbsp;*(하나의 리스트의 요소들을 기준으로 반복하여 다른 리스트의 요소와 다르다면 저장한다)*    \n",
    ">      똑같이 2개의 리스트를 받은 다음 처음 입력받은 리스트를 기준으로 반복문을 돌린다.  \n",
    ">      listA에 포함되는 요소가 listB에 포함된다면 pass  \n",
    ">      포함되지 않는다면 새로운 리스트 newList에 저장한 뒤 계속 실행한다.\n",
    ">      그 후, sort()함수를 활용하여 오름차순 정렬시킨 뒤 출력한다.\n",
    "\n",
    "> #### 메인  \n",
    ">>- A = [0, 1, 2, 3]&nbsp;&nbsp;&nbsp;&nbsp;B = [2, 3, 4, 5]  \n",
    ">>- 교집합에서는 겹쳐지는 요소 [2, 3]이 출력된다.  \n",
    ">>  \n",
    ">>  \n",
    ">>- A = [0, 1, 2, 3]&nbsp;&nbsp;&nbsp;&nbsp;B = [2, 3, 4, 5]  \n",
    ">>- A를 기준으로 B와 겹치지 않는 요소 [0, 1]이 출력된다.  \n",
    ">>  \n",
    ">>  \n",
    ">>- A = [0, 1, 2, 3]&nbsp;&nbsp;&nbsp;&nbsp;B = [2, 3, 4, 5]  \n",
    ">>- B를 기준으로 A와 겹치지 않는 요소 [4, 5]가 출력된다.  "
   ]
  },
  {
   "cell_type": "markdown",
   "id": "b1f50bd4",
   "metadata": {},
   "source": [
    "## 5. 두 개의 양의 정수를 인자로 받아서 해당 범위안에 있는 소수(prime number)의 리스트를 출력하는 함수 print_primenumber(a, b)를 작성하시오.\n",
    " > - 이미 구현된 모듈이나 라이브러리는 사용하지 않는다.  \n",
    " > - 함수의 반환(return)은 없으며 함수 내의 끝에서 .format()을 사용하여 다음과 같이 출력한다.  \n",
    " >> - print_primenumber(2, 10)\n",
    " >>  - 2 이상 10 이하 정수 중 소수 리스트 : [2, 3, 5, 7]  \n",
    "     \n"
   ]
  },
  {
   "cell_type": "code",
   "execution_count": 47,
   "id": "4a5875ff",
   "metadata": {},
   "outputs": [
    {
     "name": "stdout",
     "output_type": "stream",
     "text": [
      "소수를 구할 범위를 양의 정수로 입력해주세요(첫 번째 수) : 2\n",
      "소수를 구할 범위를 양의 정수로 입력해주세요(두 번째 수) : 15\n",
      "2 이상 15 이하 정수 중 소수 리스트: [2, 3, 5, 7, 11, 13]\n"
     ]
    }
   ],
   "source": [
    "def print_primenumber(a, b) :\n",
    "    prime_number = []\n",
    "    for i in range(a, b+1) :\n",
    "        check = 1      # 1일 때는 소수, 0은 소수아님\n",
    "        for j in range(2, i) :\n",
    "            if i % j == 0 : check = 0\n",
    "        if check == 1: prime_number.append(i)\n",
    "    print('{0} 이상 {1} 이하 정수 중 소수 리스트: {2}'.format(a, b, prime_number))\n",
    "\n",
    "firstNumber = int(input(\"소수를 구할 범위를 양의 정수로 입력해주세요(첫 번째 수) : \"))\n",
    "secondNumber = int(input(\"소수를 구할 범위를 양의 정수로 입력해주세요(두 번째 수) : \"))\n",
    "print_primenumber(firstNumber, secondNumber)"
   ]
  },
  {
   "cell_type": "markdown",
   "id": "941590e4",
   "metadata": {},
   "source": [
    "##### [코드 설명] \n",
    "> #### [함수 정의]  \n",
    ">     특정 범위 a ~ b의 수를 받는다.  \n",
    ">     소수일 때를 체크하는 변수 check를 0으로 초기화  \n",
    ">     두번의 반복을 통해 소수를 구한다.\n",
    ">     첫번째 반복은 for i in range(a, b + 1)를 통해 a ~ b까지의 수를 i에 대입하여 범위 내에 전체 수를 비교할 수 있도록 한다.\n",
    ">     두번째 반복은 해당 i가 소수인지 아닌지를 판단한다.\n",
    ">     2부터 i - 1의 수랑 나누어떨어지면 소수가 아니기에 check = 0\n",
    ">     해당되지 않는다면 check = 1을 대입한다\n",
    ">     if 조건을 통해 check = 1일 때의 i를 소수리스트 prime_number에 삽입한다.\n",
    ">&nbsp;&nbsp;&nbsp;&nbsp;&nbsp;**for j in range(2,2) 즉, i = 2일 때에는 반복문이 실행되지않아 그대로 check = 1이다. 즉 소수이며 출력된다.**\n",
    "> #### [메인]  \n",
    ">     두 개의 수를 받은 다음 print_primenumber()를 통해 출력한다."
   ]
  },
  {
   "cell_type": "markdown",
   "id": "6b77d809",
   "metadata": {},
   "source": [
    "## [ Incremental Project 문제 ]\n",
    "### 웹 URL로 지정된 웹페이지를 문자열로 가져와서  \n",
    "### 1) 모든 HTML 태그를 제외한 순수 텍스트 문자열만을 걸러내고,  \n",
    "### 2) 그 순수 텍스트 문자열 안에 존재하는 단어가 총 몇개인지 출력하는 프로그램을 작성하시오.  \n",
    "    "
   ]
  },
  {
   "cell_type": "code",
   "execution_count": 64,
   "id": "19ffd5ee",
   "metadata": {},
   "outputs": [
    {
     "name": "stdout",
     "output_type": "stream",
     "text": [
      "url : [ http://fow.kr/ ],\n",
      "단어의 개수는 366개 입니다\n",
      "['롤 전적 검색 포우 FOW', '홈', '관전하기', '다시보기', '챔피언', '챔피언통계', '랭킹', '자유랭킹']\n",
      "\n",
      "url : [ https://www.koreatech.ac.kr/kor/Main.do ],\n",
      "단어의 개수는 741개 입니다\n",
      "['한국기술교육대학교', '닫기', 'Link ', 'Service', '재학생', '재학생', '학생이 행복한 대학, 한국기술교육대학교', '온라인교육지원']\n"
     ]
    }
   ],
   "source": [
    "import requests                                                            # HTTP 요청 처리를 위한 requests 호출\n",
    "fow_url = 'http://fow.kr/'                                                  # 1번째 url (롤 전적검색 fow.kr)\n",
    "koreatech_url = 'https://www.koreatech.ac.kr/kor/Main.do'                   # 2번째 url (한국기술교육대학교 홈페이지)\n",
    "\n",
    "# html 문자열 저장\n",
    "req_fow = requests.get('http://fow.kr/')                                    # fow.kr 의 html을 불러와서 req_fow에 대입\n",
    "source_fow = req_fow.text                                                   # 텍스트 화하여 source_fow에 대입\n",
    "source_fow = source_fow.replace(\"\\n\",\"\")                                    # source_fow 문자열 내에 '\\n' 문자를 ''로 대체 (삭제)\n",
    "source_fow = source_fow.replace(\"\\t\",\"\")                                    # source_fow 문자열 내에 '\\t' 문자를 ''로 대체 (삭제)\n",
    "source_fow = source_fow.replace(\"\\r\",\"\")                                    # source_fow 문자열 내에 '\\r' 문자를 ''로 대체 (삭제)\n",
    "\n",
    "req_koreatech = requests.get('https://www.koreatech.ac.kr/kor/Main.do')     # koreatech.ac.kr 의 html을 불러와서 req_koreatech에 대입\n",
    "source_koreatech = req_koreatech.text                                       # 텍스트 화하여 source_koreatech에 대입\n",
    "source_koreatech = source_koreatech.replace(\"\\n\",\"\")                        # source_koreatech 문자열 내에 '\\n' 문자를 ''로 대체 (삭제)\n",
    "source_koreatech = source_koreatech.replace(\"\\t\",\"\")                        # source_koreatech 문자열 내에 '\\t' 문자를 ''로 대체 (삭제)\n",
    "source_koreatech = source_koreatech.replace(\"\\r\",\"\")                        # source_koreatech 문자열 내에 '\\r' 문자를 ''로 대체 (삭제)\n",
    "\n",
    "\n",
    "# html 태그 제거 함수\n",
    "def print_string(str1):                                                     # str1 문자열을 인자로 받아옴\n",
    "    result = []                                                             # 반환할 문자열을 담을 리스트 result 생성\n",
    "    while True:                                                            # 모든 문자열을 추출할 때까지 반복\n",
    "        i = 0                                                               # 반복될때마다 인덱스 i = 0 으로 초기화\n",
    "        # <script> 태그 제거\n",
    "        if str1.find('<script>') == i:                                      # 문자열 중 <script>로 시작하는 인덱스가 시작과 같다면\n",
    "            i = str1.find('</script>') + 9                                  # </script>가 닫히는 인덱스로 간 뒤 그 뒤에 인덱스 i에 저장\n",
    "            str1 = str1[i:]                                                 # i 인덱스 뒤로 슬라이싱 후 대입\n",
    "            i = 0                                                           # i = 다시 시작위치인 0으로 초기화\n",
    "            \n",
    "        # <script ~ > 태그 제거\n",
    "        elif str1.find('<script ') == i:                                   # 문자열 중 <scirpt ~ >로 시작하는 인덱스가 시작과 같다면\n",
    "            i = str1.find('</script>') + 9                                  # </script>가 닫히는 인덱스로 간 뒤 그 뒤에 인덱스 i에 저장\n",
    "            str1 = str1[i:]                                                 # i 인덱스 뒤로 슬라이싱 후 대입\n",
    "            i = 0                                                           # i = 다시 시작위치인 0으로 초기화\n",
    "            \n",
    "        # <SCRIPT> 태그 제거\n",
    "        elif str1.find('<SCRIPT>') == i:                                   # 문자열 중 <SCRIPT>로 시작하는 인덱스가 시작과 같다면\n",
    "            i = str1.find('</SCRIPT>') + 9                                  # </SCRIPT>가 닫히는 인덱스로 간 뒤 그 뒤에 인덱스 i에 저장\n",
    "            str1 = str1[i:]                                                 # i 인덱스 뒤로 슬라이싱 후 대입\n",
    "            i = 0                                                           # i = 다시 시작위치인 0으로 초기화\n",
    "            \n",
    "        # <style> 태그 제거\n",
    "        elif str1.find('<style') == i:                                     # 문자열 중 <style>로 시작하는 인덱스가 시작과 같다면\n",
    "            i = str1.find('</style>') + 8                                   # </style>이 닫히는 인덱스로 간 뒤 그 뒤에 인덱스 i에 저장\n",
    "            str1 = str1[i:]                                                 # i 인덱스 뒤로 슬라이싱 후 대입\n",
    "            i = 0                                                           # i = 다시 시작위치인 0으로 초기화\n",
    "            \n",
    "        # <STYLE> 태그 제거\n",
    "        elif str1.find('<STYLE>') == i:                                    # 문자열 중 <STYLE>로 시작하는 인덱스가 시작과 같다면\n",
    "            i = str1.find('</STYLE>') + 8                                   # </STYLE>이 닫히는 인덱스로 간 뒤 그 뒤에 인덱스 i에 저장\n",
    "            str1 = str1[i:]                                                 # i 인덱스 뒤로 슬라이싱 후 대입\n",
    "            i = 0                                                           # i = 다시 시작위치인 0으로 초기화\n",
    "            \n",
    "        # <SPAN ~ > 태그 제거\n",
    "        elif str1.find('<SPAN') == i:                                      # 문자열 중 <SPAN ~ >로 시작하는 인덱스가 시작과 같다면\n",
    "            i = str1.find('</SPAN>') + 7                                    # </SPAN>이 닫히는 인덱스로 간 뒤 그 뒤에 인덱스 i에 저장\n",
    "            str1 = str1[i:]                                                 # i 인덱스 뒤로 슬라이싱 후 대입\n",
    "            i = 0                                                           # i = 다시 시작위치인 0으로 초기화\n",
    "            \n",
    "        # 나머지 '<'' 로 시작하는 모든 태그 제거\n",
    "        elif str1[i] == '<':                                               # 문자열 중 '<'로 시작하는 인덱스가 시작과 같다면\n",
    "            while True:                                                    # < > 내부의 중복 <>처리를 위한 반복\n",
    "                i += 1                                                      # 첫 시작 : '<' 다음, 반복시 : '>' 다음 인덱스\n",
    "                if '<' in str1[i:str1.find('>') + 1]:                       # <> 내부에 '<'가 있다면\n",
    "                    i = str1.find('>') + 1                                  # 처음 '>'가 오는 인덱스 다음으로 인덱스 i 지정\n",
    "                    str1 = str1[i:]                                         # i부터 시작하여 문자열 슬라이싱\n",
    "                    i = 0                                                   # i = 0으로 초기화\n",
    "                else:                                                      # '<' 가 중복으로 들어있지 않다면\n",
    "                    i = str1.find('>') + 1                                 # '>'로 닫히는 인덱스로 간 뒤 그 뒤에 인덱스를 i에 저장\n",
    "                    str1 = str1[i:]                                        # i 인덱스 뒤로 슬라이싱 후 대입\n",
    "                    break                                                  # '<' 내부에 <>가 있는지 판별하는 반복 탈출\n",
    "        \n",
    "        # 글자 또는 공백일 때            \n",
    "        else:                                                              # '<'가 포함된 태그로 시작하지 않는다면\n",
    "            if str1[i] == ' ':                                             # 공백이라면\n",
    "                i += 1                                                     # 다음 인덱스 값을 i에 저장 후\n",
    "                str1 = str1[i:]                                            # i를 시작으로 전체 슬라이싱 후 대입\n",
    "            else:                                                          # 문자라면\n",
    "                result.append(str1[i:str1.find('<')])                      # 다음 태그가 시작되기 전까지 result에 문자열 대입\n",
    "                i = str1.find('<')                                         # '<' 다음 인덱스 값을 i에 저장 후\n",
    "                str1 = str1[i:]                                            # 다음 태그가 시작되는 인덱스부터 시작\n",
    "        if len(str1) == 0:                                                # 모든 태그를 다 제거하였다면\n",
    "            break                                                         # 반복 종료\n",
    "    return result                                                         # 순수 문자열을 저장한 리스트 result를 반환\n",
    "\n",
    "\n",
    "# 단어 개수 출력함수\n",
    "def print_wordNumber(pathList):\n",
    "    word = []\n",
    "    for i in range(0, len(pathList)):\n",
    "        word += pathList[i].split()                                       # split()를 활용하여 공백을 기준으로 단어 구분 및 word에 대입\n",
    "    return len(word)                                                      # 길이를 통해 개수를 정수형으로 반환\n",
    "\n",
    "\n",
    "# 메인\n",
    "fow = print_string(source_fow)\n",
    "koreatech = print_string(source_koreatech)\n",
    "print(\"url : [ {0} ],\\n단어의 개수는 {1}개 입니다\".format(fow_url, print_wordNumber(fow)))\n",
    "print(fow[:8])\n",
    "print()\n",
    "print(\"url : [ {0} ],\\n단어의 개수는 {1}개 입니다\".format(koreatech_url, print_wordNumber(koreatech)))\n",
    "print(koreatech[:8])"
   ]
  },
  {
   "cell_type": "markdown",
   "id": "673f4a52",
   "metadata": {},
   "source": [
    "##### [코드 설명] \n",
    " - 사용한 개념은 슬라이싱을 활용하여 태그가 붙은 부분은 지나가고 그 뒤에 순수 문자열만을 리스트에 저장한다.\n",
    " - 특정한 <태그> 들을 파악한 뒤 하나씩 조건으로 달아 제거하였다.\n",
    " - 문자열을 변환시킬 때 출력되는 '\\n', '\\t', '\\r'을 replace()를 활용하여 제거하였다."
   ]
  },
  {
   "cell_type": "markdown",
   "id": "437c7b0a",
   "metadata": {},
   "source": [
    "## 느낀점\n",
    "> 처음 사용해보는 format()함수를 사용해보아서 매우 좋았으며 HTTP를 요청하여 html 태그를 제거하는 문제는 굉장히 어려워서 많은 시간을 들였지만 완성하여 매우 뿌듯하고 기분이 좋았다."
   ]
  }
 ],
 "metadata": {
  "kernelspec": {
   "display_name": "Python 3",
   "language": "python",
   "name": "python3"
  },
  "language_info": {
   "codemirror_mode": {
    "name": "ipython",
    "version": 3
   },
   "file_extension": ".py",
   "mimetype": "text/x-python",
   "name": "python",
   "nbconvert_exporter": "python",
   "pygments_lexer": "ipython3",
   "version": "3.8.8"
  }
 },
 "nbformat": 4,
 "nbformat_minor": 5
}
